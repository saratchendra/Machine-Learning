{
 "cells": [
  {
   "cell_type": "markdown",
   "metadata": {},
   "source": [
    "### if statements in Python programming\n"
   ]
  },
  {
   "cell_type": "code",
   "execution_count": null,
   "metadata": {},
   "outputs": [],
   "source": [
    "if condition:\n",
    "   block_of_code"
   ]
  },
  {
   "cell_type": "code",
   "execution_count": 1,
   "metadata": {},
   "outputs": [
    {
     "name": "stdout",
     "output_type": "stream",
     "text": [
      "if conditional statement is True\n"
     ]
    }
   ],
   "source": [
    "condition=True\n",
    "if condition==True:\n",
    "    print('if conditional statement is True')"
   ]
  },
  {
   "cell_type": "code",
   "execution_count": 2,
   "metadata": {},
   "outputs": [
    {
     "name": "stdout",
     "output_type": "stream",
     "text": [
      "if conditional statement is False\n"
     ]
    }
   ],
   "source": [
    "condition=False\n",
    "if condition==False:\n",
    "    print('if conditional statement is False')"
   ]
  },
  {
   "cell_type": "code",
   "execution_count": 3,
   "metadata": {},
   "outputs": [
    {
     "name": "stdout",
     "output_type": "stream",
     "text": [
      "a is less than 100\n"
     ]
    }
   ],
   "source": [
    "a=40\n",
    "if a<100:\n",
    "    print('a is less than 100')"
   ]
  },
  {
   "cell_type": "code",
   "execution_count": 4,
   "metadata": {},
   "outputs": [
    {
     "name": "stdout",
     "output_type": "stream",
     "text": [
      "a is greater than 200\n"
     ]
    }
   ],
   "source": [
    "a=400\n",
    "if a>200:\n",
    "    print('a is greater than 200')"
   ]
  },
  {
   "cell_type": "markdown",
   "metadata": {},
   "source": [
    "### If..else statements"
   ]
  },
  {
   "cell_type": "code",
   "execution_count": null,
   "metadata": {},
   "outputs": [],
   "source": [
    "if condition:\n",
    "   block_of_code_1\n",
    "else:\n",
    "   block_of_code_2"
   ]
  },
  {
   "cell_type": "code",
   "execution_count": 5,
   "metadata": {},
   "outputs": [
    {
     "name": "stdout",
     "output_type": "stream",
     "text": [
      "a is less than b\n"
     ]
    }
   ],
   "source": [
    "a=20\n",
    "b=30\n",
    "if a<b:\n",
    "    print('a is less than b')\n",
    "else:\n",
    "    print('a is greater than b')"
   ]
  },
  {
   "cell_type": "code",
   "execution_count": 6,
   "metadata": {},
   "outputs": [
    {
     "name": "stdout",
     "output_type": "stream",
     "text": [
      "Enter first number:34\n",
      "Enter second number:43\n",
      "num1 less than num2\n"
     ]
    }
   ],
   "source": [
    "num1=int(input('Enter first number:'))\n",
    "num2=int(input('Enter second number:'))\n",
    "if num1>num2:\n",
    "    print('num1 greater than num2')\n",
    "else:\n",
    "    print('num1 less than num2')"
   ]
  },
  {
   "cell_type": "code",
   "execution_count": 7,
   "metadata": {},
   "outputs": [
    {
     "name": "stdout",
     "output_type": "stream",
     "text": [
      "Enter number:23\n",
      "The number is odd\n"
     ]
    }
   ],
   "source": [
    "# To print even or odd numbers\n",
    "num1=int(input('Enter number:'))\n",
    "if num1%2==0:\n",
    "    print('The number is even')\n",
    "else:\n",
    "    print('The number is odd')"
   ]
  },
  {
   "cell_type": "markdown",
   "metadata": {},
   "source": [
    "### if elif else statement in Python\n"
   ]
  },
  {
   "cell_type": "code",
   "execution_count": null,
   "metadata": {},
   "outputs": [],
   "source": [
    "if condition:\n",
    "   block_of_code_1\n",
    "elif condition_2:\n",
    "   block_of_code_2\n",
    "elif condition_3:\n",
    "   block_of_code_3\n",
    "else:\n",
    "    ....."
   ]
  },
  {
   "cell_type": "code",
   "execution_count": 8,
   "metadata": {},
   "outputs": [
    {
     "name": "stdout",
     "output_type": "stream",
     "text": [
      "Enter name:sarat\n",
      "You are anonymous\n"
     ]
    }
   ],
   "source": [
    "name= input('Enter name:')\n",
    "if name=='Saratchendra':\n",
    "    print('Your name is Saratchendra')\n",
    "elif name == 'Sarat':\n",
    "    print('Your name is Sarat')\n",
    "else:\n",
    "    print('You are anonymous')"
   ]
  },
  {
   "cell_type": "code",
   "execution_count": 9,
   "metadata": {},
   "outputs": [
    {
     "name": "stdout",
     "output_type": "stream",
     "text": [
      "Enter your account number:12\n",
      "Invalid pin\n"
     ]
    }
   ],
   "source": [
    "pin=input('Enter your account number:')\n",
    "if pin == 1234:\n",
    "    print('You have entered a valid pin')\n",
    "elif pin == 234:\n",
    "    print('Try again')\n",
    "else:\n",
    "    print('Invalid pin')\n"
   ]
  },
  {
   "cell_type": "code",
   "execution_count": 10,
   "metadata": {},
   "outputs": [
    {
     "name": "stdout",
     "output_type": "stream",
     "text": [
      "Enter your bank name:SBI\n",
      "You are an SBI account holder\n"
     ]
    }
   ],
   "source": [
    "Bank_name=input('Enter your bank name:')\n",
    "if Bank_name == 'SBI':\n",
    "    print('You are an SBI account holder')\n",
    "elif Bank_name == 'ICICI':\n",
    "    print('You are an ICICI account holder')\n",
    "else:\n",
    "    print('Create an account please')\n"
   ]
  },
  {
   "cell_type": "markdown",
   "metadata": {},
   "source": [
    "### Iterative statement"
   ]
  },
  {
   "cell_type": "code",
   "execution_count": 11,
   "metadata": {},
   "outputs": [],
   "source": [
    "# If we want to execute group of statements multiple times then we can go for iterative statements\n",
    "# for loop\n",
    "# while loop"
   ]
  },
  {
   "cell_type": "code",
   "execution_count": 12,
   "metadata": {},
   "outputs": [
    {
     "name": "stdout",
     "output_type": "stream",
     "text": [
      "p\n",
      "y\n",
      "t\n",
      "h\n",
      "o\n",
      "n\n"
     ]
    }
   ],
   "source": [
    "# for loop\n",
    "# To print characters present in the string\n",
    "s= 'python'\n",
    "for x in s:   # x goes through all the letters in s\n",
    "    print(x)  "
   ]
  },
  {
   "cell_type": "code",
   "execution_count": 13,
   "metadata": {},
   "outputs": [
    {
     "name": "stdout",
     "output_type": "stream",
     "text": [
      "0\n",
      "1\n",
      "2\n",
      "3\n",
      "4\n",
      "5\n",
      "6\n",
      "7\n",
      "8\n",
      "9\n",
      "10\n"
     ]
    }
   ],
   "source": [
    "# range function\n",
    "# To print numbers from 0 to 10\n",
    "for i in range(11):      # range(start, end-1) i.e., (11-1)\n",
    "    print(i)"
   ]
  },
  {
   "cell_type": "code",
   "execution_count": 14,
   "metadata": {},
   "outputs": [
    {
     "name": "stdout",
     "output_type": "stream",
     "text": [
      "1\n",
      "3\n",
      "5\n",
      "7\n",
      "9\n"
     ]
    }
   ],
   "source": [
    "for i in range(1,11, 2):    # range(start, end-1, step=2) i.e, (start=1, end=11-1, step=2)\n",
    "    print(i)"
   ]
  },
  {
   "cell_type": "code",
   "execution_count": 15,
   "metadata": {},
   "outputs": [
    {
     "name": "stdout",
     "output_type": "stream",
     "text": [
      "1\n",
      "3\n",
      "5\n",
      "7\n",
      "9\n",
      "11\n",
      "13\n",
      "15\n",
      "17\n",
      "19\n"
     ]
    }
   ],
   "source": [
    "# to print odd numbers from 0 to 20\n",
    "for i in range(21):\n",
    "    if i%2!=0:\n",
    "        print(i)"
   ]
  },
  {
   "cell_type": "code",
   "execution_count": 16,
   "metadata": {},
   "outputs": [
    {
     "name": "stdout",
     "output_type": "stream",
     "text": [
      "Enter numbers:1, 2,4\n",
      "1\n",
      "3\n",
      "7\n"
     ]
    }
   ],
   "source": [
    "# To print sum of numbers\n",
    "num= eval(input('Enter numbers:'))\n",
    "sum=0\n",
    "for i in num:\n",
    "    sum=sum+i\n",
    "    print(sum)"
   ]
  },
  {
   "cell_type": "markdown",
   "metadata": {},
   "source": [
    "### Transfer statements"
   ]
  },
  {
   "cell_type": "code",
   "execution_count": 17,
   "metadata": {},
   "outputs": [],
   "source": [
    "# Transfer statements are break, continue, pass\n"
   ]
  },
  {
   "cell_type": "code",
   "execution_count": 18,
   "metadata": {},
   "outputs": [
    {
     "name": "stdout",
     "output_type": "stream",
     "text": [
      "0\n",
      "1\n",
      "2\n",
      "3\n",
      "4\n",
      "break the code\n"
     ]
    }
   ],
   "source": [
    "# break\n",
    "# break statement is used to break loop execution inside a loop on condition\n",
    "for i in range(10):\n",
    "    if i==5:\n",
    "        print('break the code')\n",
    "        break\n",
    "    print(i)"
   ]
  },
  {
   "cell_type": "code",
   "execution_count": 19,
   "metadata": {},
   "outputs": [
    {
     "name": "stdout",
     "output_type": "stream",
     "text": [
      "10\n",
      "40\n",
      "50\n",
      "only 3 items are considered\n"
     ]
    }
   ],
   "source": [
    "item = [10, 40, 50, 60, 400]\n",
    "for i in item:\n",
    "    if i>50:\n",
    "        print('only 3 items are considered')\n",
    "        break\n",
    "    print(i)"
   ]
  },
  {
   "cell_type": "code",
   "execution_count": 20,
   "metadata": {},
   "outputs": [
    {
     "name": "stdout",
     "output_type": "stream",
     "text": [
      "10\n",
      "40\n",
      "not counted 50\n",
      "not counted 60\n",
      "not counted 400\n",
      "25\n",
      "35\n"
     ]
    }
   ],
   "source": [
    "# continue\n",
    "# we use continue statement to skip current statement and continue next iteration\n",
    "item = [10, 40, 50, 60, 400, 25, 35]\n",
    "for i in item:\n",
    "    if i>=50:\n",
    "        print('not counted', i)\n",
    "        continue\n",
    "    print(i)"
   ]
  },
  {
   "cell_type": "code",
   "execution_count": 21,
   "metadata": {},
   "outputs": [
    {
     "name": "stdout",
     "output_type": "stream",
     "text": [
      "0\n",
      "10\n",
      "20\n",
      "30\n",
      "40\n",
      "50\n",
      "60\n",
      "70\n",
      "80\n"
     ]
    }
   ],
   "source": [
    "# pass \n",
    "# it is an empty statement(null)\n",
    "for i in range(90):\n",
    "    if i%10==0:\n",
    "        print(i)\n",
    "    else: pass"
   ]
  },
  {
   "cell_type": "code",
   "execution_count": 22,
   "metadata": {},
   "outputs": [
    {
     "name": "stdout",
     "output_type": "stream",
     "text": [
      "10\n"
     ]
    }
   ],
   "source": [
    "# del statement\n",
    "x=10\n",
    "print(x)"
   ]
  },
  {
   "cell_type": "code",
   "execution_count": 23,
   "metadata": {},
   "outputs": [],
   "source": [
    "del(x)"
   ]
  },
  {
   "cell_type": "code",
   "execution_count": 24,
   "metadata": {},
   "outputs": [
    {
     "ename": "NameError",
     "evalue": "name 'x' is not defined",
     "output_type": "error",
     "traceback": [
      "\u001b[1;31m---------------------------------------------------------------------------\u001b[0m",
      "\u001b[1;31mNameError\u001b[0m                                 Traceback (most recent call last)",
      "\u001b[1;32m<ipython-input-24-6fcf9dfbd479>\u001b[0m in \u001b[0;36m<module>\u001b[1;34m\u001b[0m\n\u001b[1;32m----> 1\u001b[1;33m \u001b[0mx\u001b[0m\u001b[1;33m\u001b[0m\u001b[1;33m\u001b[0m\u001b[0m\n\u001b[0m",
      "\u001b[1;31mNameError\u001b[0m: name 'x' is not defined"
     ]
    }
   ],
   "source": [
    "x"
   ]
  },
  {
   "cell_type": "code",
   "execution_count": 25,
   "metadata": {},
   "outputs": [],
   "source": [
    "# from the above, x was deleted"
   ]
  },
  {
   "cell_type": "markdown",
   "metadata": {},
   "source": [
    "### Index"
   ]
  },
  {
   "cell_type": "code",
   "execution_count": 26,
   "metadata": {},
   "outputs": [],
   "source": [
    "# indexing\n",
    "#            s = a p p l e   \n",
    "# (+)indexing =  0 1 2 3 4   , a=0, p=1, p=2, l=3, e=4 : positive index(left to right)\n",
    "# python supports both positive and negative slicing\n",
    "#         s = a   p   p  l  e\n",
    "# indexing =  -5 -4  -3 -2 -1  , a=-5, p=-4, p=-3, l=-2, e=-1 : negative indeex(right to left)\n"
   ]
  },
  {
   "cell_type": "code",
   "execution_count": 27,
   "metadata": {},
   "outputs": [
    {
     "data": {
      "text/plain": [
       "'a'"
      ]
     },
     "execution_count": 27,
     "metadata": {},
     "output_type": "execute_result"
    }
   ],
   "source": [
    "s='apple'\n",
    "s[0]     # to access [index] i.e.,[0]"
   ]
  },
  {
   "cell_type": "code",
   "execution_count": 28,
   "metadata": {},
   "outputs": [
    {
     "data": {
      "text/plain": [
       "'p'"
      ]
     },
     "execution_count": 28,
     "metadata": {},
     "output_type": "execute_result"
    }
   ],
   "source": [
    "s[1]"
   ]
  },
  {
   "cell_type": "code",
   "execution_count": 29,
   "metadata": {},
   "outputs": [
    {
     "name": "stdout",
     "output_type": "stream",
     "text": [
      "a\n",
      "p\n",
      "p\n",
      "l\n",
      "e\n"
     ]
    }
   ],
   "source": [
    "# positive indexing\n",
    "print(s[0])\n",
    "print(s[1])\n",
    "print(s[2])\n",
    "print(s[3])\n",
    "print(s[4])\n"
   ]
  },
  {
   "cell_type": "code",
   "execution_count": 30,
   "metadata": {},
   "outputs": [
    {
     "name": "stdout",
     "output_type": "stream",
     "text": [
      "e\n",
      "l\n",
      "p\n",
      "p\n",
      "a\n"
     ]
    }
   ],
   "source": [
    "# Negative indexing\n",
    "print(s[-1])\n",
    "print(s[-2])\n",
    "print(s[-3])\n",
    "print(s[-4])\n",
    "print(s[-5])\n"
   ]
  },
  {
   "cell_type": "code",
   "execution_count": 31,
   "metadata": {},
   "outputs": [
    {
     "name": "stdout",
     "output_type": "stream",
     "text": [
      "Enter some string:apple\n",
      "the char present at positive index is 0 and negative index is -5\n",
      "the char present at positive index is 1 and negative index is -4\n",
      "the char present at positive index is 2 and negative index is -3\n",
      "the char present at positive index is 3 and negative index is -2\n",
      "the char present at positive index is 4 and negative index is -1\n"
     ]
    }
   ],
   "source": [
    "# to print positive and negative string\n",
    "s=input('Enter some string:')\n",
    "i=0\n",
    "for x in s:\n",
    "    print('the char present at positive index is {} and negative index is {}'. format(i, i-len(s), x))\n",
    "    i=i+1\n"
   ]
  },
  {
   "cell_type": "markdown",
   "metadata": {},
   "source": [
    "### Slice operator"
   ]
  },
  {
   "cell_type": "code",
   "execution_count": 32,
   "metadata": {},
   "outputs": [
    {
     "data": {
      "text/plain": [
       "'a'"
      ]
     },
     "execution_count": 32,
     "metadata": {},
     "output_type": "execute_result"
    }
   ],
   "source": [
    "# Slice operator\n",
    "# syntax[beginIndex:endIndex:step]\n",
    "s='apple'\n",
    "s[:1]      # includes only first letter"
   ]
  },
  {
   "cell_type": "code",
   "execution_count": 33,
   "metadata": {},
   "outputs": [
    {
     "data": {
      "text/plain": [
       "'pple'"
      ]
     },
     "execution_count": 33,
     "metadata": {},
     "output_type": "execute_result"
    }
   ],
   "source": [
    "s[1:]      # excludes first letter"
   ]
  },
  {
   "cell_type": "code",
   "execution_count": 34,
   "metadata": {},
   "outputs": [
    {
     "data": {
      "text/plain": [
       "'pp'"
      ]
     },
     "execution_count": 34,
     "metadata": {},
     "output_type": "execute_result"
    }
   ],
   "source": [
    "s[1:3]"
   ]
  },
  {
   "cell_type": "code",
   "execution_count": 35,
   "metadata": {},
   "outputs": [
    {
     "data": {
      "text/plain": [
       "'apple is good for health'"
      ]
     },
     "execution_count": 35,
     "metadata": {},
     "output_type": "execute_result"
    }
   ],
   "source": [
    "s= 'apple is good for health'\n",
    "s[:]      # considers everything"
   ]
  },
  {
   "cell_type": "code",
   "execution_count": 36,
   "metadata": {},
   "outputs": [
    {
     "data": {
      "text/plain": [
       "'apple is good for health'"
      ]
     },
     "execution_count": 36,
     "metadata": {},
     "output_type": "execute_result"
    }
   ],
   "source": [
    "s[::]     # considers everything"
   ]
  },
  {
   "cell_type": "code",
   "execution_count": 37,
   "metadata": {},
   "outputs": [
    {
     "data": {
      "text/plain": [
       "24"
      ]
     },
     "execution_count": 37,
     "metadata": {},
     "output_type": "execute_result"
    }
   ],
   "source": [
    "# len()\n",
    "len(s)       # len(): to find length of string: ie., the number of characters or variables"
   ]
  },
  {
   "cell_type": "code",
   "execution_count": 38,
   "metadata": {},
   "outputs": [
    {
     "data": {
      "text/plain": [
       "'htlaeh rof doog si elppa'"
      ]
     },
     "execution_count": 38,
     "metadata": {},
     "output_type": "execute_result"
    }
   ],
   "source": [
    "s[::-1]       # prints in reverse order"
   ]
  },
  {
   "cell_type": "code",
   "execution_count": 39,
   "metadata": {},
   "outputs": [
    {
     "data": {
      "text/plain": [
       "'good'"
      ]
     },
     "execution_count": 39,
     "metadata": {},
     "output_type": "execute_result"
    }
   ],
   "source": [
    "s[9:13]    # space is also condiered as index"
   ]
  },
  {
   "cell_type": "code",
   "execution_count": 40,
   "metadata": {},
   "outputs": [
    {
     "data": {
      "text/plain": [
       "'htlaeh'"
      ]
     },
     "execution_count": 40,
     "metadata": {},
     "output_type": "execute_result"
    }
   ],
   "source": [
    "s[:-7:-1]   # health: negative indexing"
   ]
  },
  {
   "cell_type": "code",
   "execution_count": 41,
   "metadata": {},
   "outputs": [
    {
     "name": "stdout",
     "output_type": "stream",
     "text": [
      "apple is good for health \n",
      "\n",
      "after replacing\n",
      "mango is good for health\n"
     ]
    }
   ],
   "source": [
    "# Reolacing a string with another string using replace() function\n",
    "s= 'apple is good for health'\n",
    "print(s,'\\n')\n",
    "print('after replacing')\n",
    "s1= s.replace('apple', 'mango')\n",
    "print(s1)"
   ]
  },
  {
   "cell_type": "code",
   "execution_count": 42,
   "metadata": {},
   "outputs": [
    {
     "name": "stdout",
     "output_type": "stream",
     "text": [
      "['apple', 'is', 'good', 'for', 'health']\n"
     ]
    }
   ],
   "source": [
    "# splitting the string by using split() function\n",
    "s='apple is good for health'\n",
    "s1=s.split()\n",
    "print(s1)"
   ]
  },
  {
   "cell_type": "code",
   "execution_count": 43,
   "metadata": {},
   "outputs": [
    {
     "name": "stdout",
     "output_type": "stream",
     "text": [
      "['26', '09', '2020']\n"
     ]
    }
   ],
   "source": [
    "s='26-09-2020'\n",
    "s1=s.split('-')\n",
    "print(s1)"
   ]
  },
  {
   "cell_type": "code",
   "execution_count": 44,
   "metadata": {},
   "outputs": [
    {
     "name": "stdout",
     "output_type": "stream",
     "text": [
      "26\n",
      "09\n",
      "2020\n"
     ]
    }
   ],
   "source": [
    "for i in s1:\n",
    "    print(i)"
   ]
  },
  {
   "cell_type": "code",
   "execution_count": 45,
   "metadata": {},
   "outputs": [
    {
     "name": "stdout",
     "output_type": "stream",
     "text": [
      "fruit:apple\n"
     ]
    }
   ],
   "source": [
    "# joining the string using join() function\n",
    "s=['fruit' ,'apple']\n",
    "s1=':'.join(s)\n",
    "print(s1)"
   ]
  },
  {
   "cell_type": "code",
   "execution_count": 46,
   "metadata": {},
   "outputs": [
    {
     "name": "stdout",
     "output_type": "stream",
     "text": [
      "apple is good for health\n",
      "APPLE IS GOOD FOR HEALTH\n",
      "Apple Is Good For Health\n",
      "Apple is good for health\n"
     ]
    }
   ],
   "source": [
    "# Change case of string\n",
    "s='apple is GOOD for health'\n",
    "print(s.lower())        # converts to lower case\n",
    "print(s.upper())        # converts to upper case\n",
    "print(s.title())        # converts to title case of first letter of every word\n",
    "print(s.capitalize())   # converts first letter of word to capital"
   ]
  },
  {
   "cell_type": "code",
   "execution_count": 47,
   "metadata": {},
   "outputs": [
    {
     "name": "stdout",
     "output_type": "stream",
     "text": [
      "Michael Jackson was a great Dancer and he performed even at the age of 50\n",
      "Michael Jackson was a great Dancer and he performed even at the age of 50\n",
      "Michael Jackson was a great Dancer and he performed even at the age of 50\n"
     ]
    }
   ],
   "source": [
    "# Formating the string using {} operator and () format\n",
    "name='Michael Jackson'\n",
    "profession = 'Dancer'\n",
    "age= 50\n",
    "print('{} was a great {} and he performed even at the age of {}'. format(name, profession,age))\n",
    "print('{0} was a great {1} and he performed even at the age of {2}'. format(name, profession,age))\n",
    "print('{x} was a great {y} and he performed even at the age of {z}'. format(x=name, y=profession,z=age))"
   ]
  },
  {
   "cell_type": "code",
   "execution_count": null,
   "metadata": {},
   "outputs": [],
   "source": []
  },
  {
   "cell_type": "code",
   "execution_count": null,
   "metadata": {},
   "outputs": [],
   "source": []
  }
 ],
 "metadata": {
  "kernelspec": {
   "display_name": "Python 3",
   "language": "python",
   "name": "python3"
  },
  "language_info": {
   "codemirror_mode": {
    "name": "ipython",
    "version": 3
   },
   "file_extension": ".py",
   "mimetype": "text/x-python",
   "name": "python",
   "nbconvert_exporter": "python",
   "pygments_lexer": "ipython3",
   "version": "3.7.6"
  }
 },
 "nbformat": 4,
 "nbformat_minor": 4
}
