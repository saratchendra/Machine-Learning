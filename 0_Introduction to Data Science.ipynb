{
 "cells": [
  {
   "cell_type": "markdown",
   "metadata": {},
   "source": [
    "# What is Data science?"
   ]
  },
  {
   "cell_type": "markdown",
   "metadata": {},
   "source": [
    "### Data science is a combination of scientific methods, algorithms, and statistical analysis to extract vital knowledge and insights from structured and unstructured data i.e., Supervised and Unsupervised data. Data mining, Machine learning, Deep learning and Artificial Intelligence are combined formation for Data science. It uses different types of statistical methods, mathematics, computer science to draw information from data."
   ]
  },
  {
   "cell_type": "raw",
   "metadata": {},
   "source": [
    "Specializations and associated careers\n",
    "\n",
    "1) Machine Learning Scientist: Machine learning scientists research new methods of data analysis and create algorithms.\n",
    "2) Data Engineer: Data Engineers prepare the “big data” infrastructure to be analyzed by Data Scientists. \n",
    "They are software engineers who design, build, integrate data from various resources, and manage big data.\n",
    "3) Data Analyst: Data analysts utilize large data sets to gather information that meets their company’s needs.\n",
    "4) Data Consultant: Data consultants work with businesses to determine the best usage of the information yielded \n",
    "from data analysis.\n",
    "5) Data Architect: Data architects build data solutions that are optimized for performance and design applications.\n",
    "6) Applications Architect: Applications architects track how applications are used throughout a business and \n",
    "how they interact with users and other applications"
   ]
  },
  {
   "cell_type": "markdown",
   "metadata": {},
   "source": [
    "## Data Mining"
   ]
  },
  {
   "cell_type": "markdown",
   "metadata": {},
   "source": [
    "### Data mining is a process of discovering patterns in large data sets involving methods at the intersection of machine learning, and statistics. Mining means collection. Data mining simply means extracting  information /important data from database by using different methods and transform the raw data into readable format. Data mining is a process used by companies to turn raw data into useful information."
   ]
  },
  {
   "cell_type": "markdown",
   "metadata": {},
   "source": [
    "### Important Libraries for data mining\n",
    "1) K-mean Algorithm,\n",
    "2) Apriori Algorithm"
   ]
  },
  {
   "cell_type": "markdown",
   "metadata": {},
   "source": [
    "## Machine Learning"
   ]
  },
  {
   "cell_type": "markdown",
   "metadata": {},
   "source": [
    "###  Machine learning is an application of artificial intelligence (AI) that provides systems the ability to automatically learn and improve from experience without being explicitly programmed. Machine learning focuses on the development of computer programs that can access data and use it to learn for themselves."
   ]
  },
  {
   "cell_type": "markdown",
   "metadata": {},
   "source": [
    "#### Machine learning approaches are traditionally divided into three broad categories, depending on the nature of  the learning system:"
   ]
  },
  {
   "cell_type": "raw",
   "metadata": {},
   "source": [
    "1) Supervised learning: The computer is presented with example inputs/ independent variables and their desired outputs/ dependent variable, given by a \"teacher\", and the goal is to learn a general rule that maps inputs to outputs. Labels are available. Simply supervised learning is to train machine like we train 3 years old kid, this is an apple, bat etc.                                 \n",
    "2) Unsupervised learning: No labels are given to the learning algorithm, leaving it on its own to find structure in its input. Unsupervised learning can be a goal in itself (discovering hidden patterns in data) or a means towards an end (feature learning).    \n",
    "\n",
    "3) Reinforcement learning: A computer program interacts with a dynamic environment in which it must perform a certain goal (such as driving a vehicle or playing a game against an opponent). As it navigates its problem space, the program is provided feedback that's analogous to rewards, which it tries to maximize."
   ]
  },
  {
   "cell_type": "markdown",
   "metadata": {},
   "source": [
    "### Supervised learning is divided into two types:\n",
    "#### 1) Regression      -- continuous\n",
    "#### 2) Classification  -- categorical"
   ]
  },
  {
   "cell_type": "markdown",
   "metadata": {},
   "source": [
    "### Types of Supervised learning algorithms"
   ]
  },
  {
   "cell_type": "raw",
   "metadata": {},
   "source": [
    "The most widely used learning algorithms are:\n",
    "i)   Linear regression\n",
    "ii)  Logistic regression\n",
    "iii) Decision tree\n",
    "iv)  Random forest\n",
    "v)   k-nearest neighbor \n",
    "vi)  Naive Bayes\n",
    "vii) GaussianNB\n",
    "viii)XGBoost, AdaBoost, Hyperparameter tuning and GridsearchCV for going deep into max depth of nodes."
   ]
  },
  {
   "cell_type": "markdown",
   "metadata": {},
   "source": [
    "### Types of Unsupervised learning algorithms"
   ]
  },
  {
   "cell_type": "raw",
   "metadata": {},
   "source": [
    "i)  K-means clustering\n",
    "ii) Apriori algorithm"
   ]
  },
  {
   "cell_type": "markdown",
   "metadata": {},
   "source": [
    "### Regression"
   ]
  },
  {
   "cell_type": "raw",
   "metadata": {},
   "source": [
    "Regression analysis is a form of predictive modelling technique which investigates the relationship between a dependent (target) and independent variable (s) (predictor). This technique is used for forecasting, time series modelling and finding the causal effect relationship between the variables. \n",
    "Simply finding the relation between independent variable(x) and dependent variable(y)\n",
    "Ex: Sales prediction, House price prediction, and stocks\n",
    "Algorithm: Linear regression"
   ]
  },
  {
   "cell_type": "markdown",
   "metadata": {},
   "source": [
    "### Classification"
   ]
  },
  {
   "cell_type": "raw",
   "metadata": {},
   "source": [
    "Predicts the output of a categorical dependent variable. Therefore the outcome must be a categorical or discrete value. \n",
    "It can be either Yes or No, 0 or 1, true or False, etc. but instead of giving the exact value as 0 and 1, \n",
    "it gives the probabilistic values which lie between 0 and 1.\n",
    "Algotithm: Logistic regression."
   ]
  },
  {
   "cell_type": "markdown",
   "metadata": {},
   "source": [
    "### Statistic concepts"
   ]
  },
  {
   "cell_type": "raw",
   "metadata": {},
   "source": [
    "Statistics is the discipline that concerns the collection, organization, analysis, interpretation and presentation of data.\n",
    "1) Mean\n",
    "2) Median\n",
    "3) Mode\n",
    "4) Standard deviation\n",
    "5) Variance"
   ]
  },
  {
   "cell_type": "code",
   "execution_count": null,
   "metadata": {},
   "outputs": [],
   "source": [
    "** Statistical hypothesis testing\n",
    "** z-test\n",
    "** t-test"
   ]
  },
  {
   "cell_type": "raw",
   "metadata": {},
   "source": [
    "Machine Learning Validation Techniques\n",
    "-- K-Fold Cross-Validation(K-fold, stratified K-Fold)\n",
    "-- Leave-One-Out Cross-Validation (LOOCV)\n",
    "-- Hold-out\n",
    "-- Random Subsampling.\n",
    "-- Bootstrapping.\n",
    "-- Variation inflation factor(VIF)\n"
   ]
  },
  {
   "cell_type": "markdown",
   "metadata": {},
   "source": [
    "## Applications of Machine Learning"
   ]
  },
  {
   "cell_type": "raw",
   "metadata": {},
   "source": [
    "1) Image Recognition\n",
    "2) Speech Recognition.\n",
    "3) Product recommendations System\n",
    "4) Email Spam and Malware Filtering\n",
    "5) Virtual Personal Assistant (Alexa, siri and Google assistance)\n",
    "6) Online Fraud Detection\n",
    "7) ChatBot\n",
    "8) Automatic language translation\n",
    "9) Price and sales prediction"
   ]
  },
  {
   "cell_type": "markdown",
   "metadata": {},
   "source": [
    "## Conclusion"
   ]
  },
  {
   "cell_type": "markdown",
   "metadata": {},
   "source": [
    "### Machine learning, Deep learning and Artificial Intelligence have an enormous application in this world. In banking sector, pharmaceautical industries, and Automation comes into picture with the implementation. "
   ]
  },
  {
   "cell_type": "code",
   "execution_count": null,
   "metadata": {},
   "outputs": [],
   "source": []
  }
 ],
 "metadata": {
  "kernelspec": {
   "display_name": "Python 3",
   "language": "python",
   "name": "python3"
  },
  "language_info": {
   "codemirror_mode": {
    "name": "ipython",
    "version": 3
   },
   "file_extension": ".py",
   "mimetype": "text/x-python",
   "name": "python",
   "nbconvert_exporter": "python",
   "pygments_lexer": "ipython3",
   "version": "3.8.3"
  }
 },
 "nbformat": 4,
 "nbformat_minor": 4
}
