{
 "cells": [
  {
   "cell_type": "markdown",
   "metadata": {},
   "source": [
    "# Pandas"
   ]
  },
  {
   "cell_type": "raw",
   "metadata": {},
   "source": [
    "--->The word pandas is an acronym which is derived from \"Python and data analysis\" and \"panel data\". Pandas is one of the most used libraries in python language. It is used for data manipulation(merge, join, concatenate and DataFrame) and analysis."
   ]
  },
  {
   "cell_type": "raw",
   "metadata": {},
   "source": [
    "Pandas deals with the following three data structures −\n",
    "\n",
    "Series        -   1D labeled homogeneous array.\n",
    "DataFrame     -   General 2D labeled, size-mutable tabular structure with potentially heterogeneously typed columns.\n",
    "Panel         -   General 3D labeled, size-mutable array.\n"
   ]
  },
  {
   "cell_type": "code",
   "execution_count": 1,
   "metadata": {},
   "outputs": [],
   "source": [
    "# Import pandas \n",
    "import pandas as pd"
   ]
  },
  {
   "cell_type": "code",
   "execution_count": 4,
   "metadata": {},
   "outputs": [
    {
     "name": "stdout",
     "output_type": "stream",
     "text": [
      "0    1\n",
      "1    2\n",
      "2    3\n",
      "3    4\n",
      "dtype: int64\n"
     ]
    }
   ],
   "source": [
    "s=[1,2,3,4]\n",
    "a=pd.Series(s)      # pd.Series 'S' must be capital\n",
    "print(a)"
   ]
  },
  {
   "cell_type": "code",
   "execution_count": 5,
   "metadata": {},
   "outputs": [
    {
     "data": {
      "text/plain": [
       "pandas.core.series.Series"
      ]
     },
     "execution_count": 5,
     "metadata": {},
     "output_type": "execute_result"
    }
   ],
   "source": [
    "# Check the type\n",
    "type(a)"
   ]
  },
  {
   "cell_type": "code",
   "execution_count": 7,
   "metadata": {},
   "outputs": [
    {
     "data": {
      "text/plain": [
       "a    1\n",
       "b    2\n",
       "c    3\n",
       "d    4\n",
       "dtype: int64"
      ]
     },
     "execution_count": 7,
     "metadata": {},
     "output_type": "execute_result"
    }
   ],
   "source": [
    "# Change the index name \n",
    "index_name= pd.Series([1,2,3,4], index=['a', 'b','c','d'])\n",
    "index_name"
   ]
  },
  {
   "cell_type": "markdown",
   "metadata": {},
   "source": [
    "### DataFrame"
   ]
  },
  {
   "cell_type": "markdown",
   "metadata": {},
   "source": [
    "#### DataFrame is a 2-dimensional labeled data structure with columns of potentially different types."
   ]
  },
  {
   "cell_type": "code",
   "execution_count": 9,
   "metadata": {},
   "outputs": [
    {
     "data": {
      "text/html": [
       "<div>\n",
       "<style scoped>\n",
       "    .dataframe tbody tr th:only-of-type {\n",
       "        vertical-align: middle;\n",
       "    }\n",
       "\n",
       "    .dataframe tbody tr th {\n",
       "        vertical-align: top;\n",
       "    }\n",
       "\n",
       "    .dataframe thead th {\n",
       "        text-align: right;\n",
       "    }\n",
       "</style>\n",
       "<table border=\"1\" class=\"dataframe\">\n",
       "  <thead>\n",
       "    <tr style=\"text-align: right;\">\n",
       "      <th></th>\n",
       "      <th>0</th>\n",
       "    </tr>\n",
       "  </thead>\n",
       "  <tbody>\n",
       "    <tr>\n",
       "      <th>0</th>\n",
       "      <td>1</td>\n",
       "    </tr>\n",
       "    <tr>\n",
       "      <th>1</th>\n",
       "      <td>2</td>\n",
       "    </tr>\n",
       "    <tr>\n",
       "      <th>2</th>\n",
       "      <td>3</td>\n",
       "    </tr>\n",
       "    <tr>\n",
       "      <th>3</th>\n",
       "      <td>4</td>\n",
       "    </tr>\n",
       "  </tbody>\n",
       "</table>\n",
       "</div>"
      ],
      "text/plain": [
       "   0\n",
       "0  1\n",
       "1  2\n",
       "2  3\n",
       "3  4"
      ]
     },
     "execution_count": 9,
     "metadata": {},
     "output_type": "execute_result"
    }
   ],
   "source": [
    "# Create DataFrame\n",
    "a= [1,2,3,4]\n",
    "data_frame=pd.DataFrame(a)\n",
    "data_frame"
   ]
  },
  {
   "cell_type": "code",
   "execution_count": 12,
   "metadata": {},
   "outputs": [
    {
     "data": {
      "text/html": [
       "<div>\n",
       "<style scoped>\n",
       "    .dataframe tbody tr th:only-of-type {\n",
       "        vertical-align: middle;\n",
       "    }\n",
       "\n",
       "    .dataframe tbody tr th {\n",
       "        vertical-align: top;\n",
       "    }\n",
       "\n",
       "    .dataframe thead th {\n",
       "        text-align: right;\n",
       "    }\n",
       "</style>\n",
       "<table border=\"1\" class=\"dataframe\">\n",
       "  <thead>\n",
       "    <tr style=\"text-align: right;\">\n",
       "      <th></th>\n",
       "      <th>0</th>\n",
       "    </tr>\n",
       "  </thead>\n",
       "  <tbody>\n",
       "    <tr>\n",
       "      <th>a</th>\n",
       "      <td>1</td>\n",
       "    </tr>\n",
       "    <tr>\n",
       "      <th>b</th>\n",
       "      <td>2</td>\n",
       "    </tr>\n",
       "    <tr>\n",
       "      <th>c</th>\n",
       "      <td>3</td>\n",
       "    </tr>\n",
       "    <tr>\n",
       "      <th>d</th>\n",
       "      <td>4</td>\n",
       "    </tr>\n",
       "  </tbody>\n",
       "</table>\n",
       "</div>"
      ],
      "text/plain": [
       "   0\n",
       "a  1\n",
       "b  2\n",
       "c  3\n",
       "d  4"
      ]
     },
     "execution_count": 12,
     "metadata": {},
     "output_type": "execute_result"
    }
   ],
   "source": [
    "# Change the index name\n",
    "data_frame=pd.DataFrame(a, index=['a', 'b', 'c', 'd'])\n",
    "data_frame"
   ]
  },
  {
   "cell_type": "code",
   "execution_count": 16,
   "metadata": {},
   "outputs": [
    {
     "name": "stdout",
     "output_type": "stream",
     "text": [
      "     Games     Score\n",
      "0  Cricket     240-3\n",
      "1   Soccer       3-3\n",
      "2   Tennis  10-20-36\n"
     ]
    }
   ],
   "source": [
    "# DataFrame using Dictionary\n",
    "df={'Games': ['Cricket', 'Soccer', 'Tennis'], 'Score':['240-3', '3-3', '10-20-36']}\n",
    "df=pd.DataFrame(df)\n",
    "print(df)"
   ]
  },
  {
   "cell_type": "code",
   "execution_count": 42,
   "metadata": {},
   "outputs": [
    {
     "name": "stdout",
     "output_type": "stream",
     "text": [
      "    Name  Age\n",
      "a  Honey   20\n",
      "b  Bunny   21\n",
      "c  Sunny   22\n"
     ]
    }
   ],
   "source": [
    "import pandas as pd\n",
    "data = [['Honey',20],['Bunny',21],['Sunny',22]]\n",
    "df = pd.DataFrame(data,columns=['Name','Age'], index=['a', 'b', 'c'])\n",
    "print(df)"
   ]
  },
  {
   "cell_type": "markdown",
   "metadata": {},
   "source": [
    "### DataFrame for pandas merge"
   ]
  },
  {
   "cell_type": "code",
   "execution_count": 127,
   "metadata": {},
   "outputs": [],
   "source": [
    "# inner join   - it displays which ever inner columns match(intersection)\n",
    "# outer join   - it displays which ever outer columns match(union)\n",
    "# left join    - left matching columns\n",
    "# right join   - right matching columns"
   ]
  },
  {
   "cell_type": "raw",
   "metadata": {},
   "source": [
    "# Attributes\n",
    "\n",
    "pd.merge(left, right, how='inner', on=None, left_on=None, right_on=None,\n",
    "left_index=False, right_index=False, sort=True)\n",
    "\n",
    "# Press shift+tab to know more about attributes and their description."
   ]
  },
  {
   "cell_type": "code",
   "execution_count": 103,
   "metadata": {},
   "outputs": [
    {
     "name": "stdout",
     "output_type": "stream",
     "text": [
      "   id Name  Grade\n",
      "0  11  Tim    3.5\n",
      "1  22  Sim    4.0\n",
      "2  33  Rim    5.0\n",
      "3  44  Kim    5.5\n",
      "4  55  Yim    6.0 \n",
      "\n",
      "   id Name  Grade\n",
      "0  11  Tom    3.1\n",
      "1  22  Sim    4.0\n",
      "2  33  Rom    5.3\n",
      "3  44  Kom    5.6\n",
      "4  55  Yom    6.1\n"
     ]
    }
   ],
   "source": [
    "import pandas as pd\n",
    "left = pd.DataFrame({\n",
    "    'id' : [11,22,33,44,55],\n",
    "    'Name' : ['Tim', 'Sim', 'Rim', 'Kim', 'Yim'],\n",
    "    'Grade' : [3.5, 4.0, 5.0, 5.5,6.0]})\n",
    "right = pd.DataFrame({\n",
    "    'id' : [11,22,33,44,55],\n",
    "    'Name' : ['Tom', 'Sim', 'Rom', 'Kom', 'Yom'],\n",
    "    'Grade' : [3.1, 4.0, 5.3, 5.6,6.1]})\n",
    "print(left, '\\n')\n",
    "print(right)"
   ]
  },
  {
   "cell_type": "code",
   "execution_count": 105,
   "metadata": {},
   "outputs": [
    {
     "name": "stdout",
     "output_type": "stream",
     "text": [
      "   id Name_x  Grade_x Name_y  Grade_y\n",
      "0  11    Tim      3.5    Tom      3.1\n",
      "1  22    Sim      4.0    Sim      4.0\n",
      "2  33    Rim      5.0    Rom      5.3\n",
      "3  44    Kim      5.5    Kom      5.6\n",
      "4  55    Yim      6.0    Yom      6.1\n"
     ]
    }
   ],
   "source": [
    "left_join=pd.merge(left, right, on='id', how='left')\n",
    "print(left_join)"
   ]
  },
  {
   "cell_type": "code",
   "execution_count": 107,
   "metadata": {},
   "outputs": [
    {
     "name": "stdout",
     "output_type": "stream",
     "text": [
      "   id Name_x  Grade_x Name_y  Grade_y\n",
      "0  11    Tim      3.5    Tom      3.1\n",
      "1  22    Sim      4.0    Sim      4.0\n",
      "2  33    Rim      5.0    Rom      5.3\n",
      "3  44    Kim      5.5    Kom      5.6\n",
      "4  55    Yim      6.0    Yom      6.1\n"
     ]
    }
   ],
   "source": [
    "right_join=pd.merge(left, right, on='id', how='right')\n",
    "print(right_join)"
   ]
  },
  {
   "cell_type": "code",
   "execution_count": 113,
   "metadata": {},
   "outputs": [
    {
     "name": "stdout",
     "output_type": "stream",
     "text": [
      "   id_x Name  Grade_x  id_y  Grade_y\n",
      "0    22  Sim      4.0    22      4.0\n"
     ]
    }
   ],
   "source": [
    "inner_join=pd.merge(left, right, on='Name', how='inner')\n",
    "print(inner_join)"
   ]
  },
  {
   "cell_type": "code",
   "execution_count": 121,
   "metadata": {},
   "outputs": [
    {
     "name": "stdout",
     "output_type": "stream",
     "text": [
      "   id_x Name  Grade_x  id_y  Grade_y\n",
      "0  11.0  Tim      3.5   NaN      NaN\n",
      "1  22.0  Sim      4.0  22.0      4.0\n",
      "2  33.0  Rim      5.0   NaN      NaN\n",
      "3  44.0  Kim      5.5   NaN      NaN\n",
      "4  55.0  Yim      6.0   NaN      NaN\n",
      "5   NaN  Tom      NaN  11.0      3.1\n",
      "6   NaN  Rom      NaN  33.0      5.3\n",
      "7   NaN  Kom      NaN  44.0      5.6\n",
      "8   NaN  Yom      NaN  55.0      6.1\n"
     ]
    }
   ],
   "source": [
    "outer_join=pd.merge(left, right, on='Name', how='outer')\n",
    "print(outer_join)"
   ]
  },
  {
   "cell_type": "code",
   "execution_count": 122,
   "metadata": {},
   "outputs": [
    {
     "name": "stdout",
     "output_type": "stream",
     "text": [
      "   id_x Name_x  Grade  id_y Name_y\n",
      "0    22    Sim    4.0    22    Sim\n"
     ]
    }
   ],
   "source": [
    "inner_join=pd.merge(left, right, on='Grade', how='inner')\n",
    "print(inner_join)"
   ]
  },
  {
   "cell_type": "code",
   "execution_count": 123,
   "metadata": {},
   "outputs": [
    {
     "name": "stdout",
     "output_type": "stream",
     "text": [
      "   id_x Name_x  Grade  id_y Name_y\n",
      "0  11.0    Tim    3.5   NaN    NaN\n",
      "1  22.0    Sim    4.0  22.0    Sim\n",
      "2  33.0    Rim    5.0   NaN    NaN\n",
      "3  44.0    Kim    5.5   NaN    NaN\n",
      "4  55.0    Yim    6.0   NaN    NaN\n",
      "5   NaN    NaN    3.1  11.0    Tom\n",
      "6   NaN    NaN    5.3  33.0    Rom\n",
      "7   NaN    NaN    5.6  44.0    Kom\n",
      "8   NaN    NaN    6.1  55.0    Yom\n"
     ]
    }
   ],
   "source": [
    "outer_join=pd.merge(left, right, on='Grade', how='outer')\n",
    "print(outer_join)"
   ]
  },
  {
   "cell_type": "code",
   "execution_count": 124,
   "metadata": {},
   "outputs": [
    {
     "name": "stdout",
     "output_type": "stream",
     "text": [
      "   id_x Name_x  Grade  id_y Name_y\n",
      "0    11    Tim    3.5   NaN    NaN\n",
      "1    22    Sim    4.0  22.0    Sim\n",
      "2    33    Rim    5.0   NaN    NaN\n",
      "3    44    Kim    5.5   NaN    NaN\n",
      "4    55    Yim    6.0   NaN    NaN\n"
     ]
    }
   ],
   "source": [
    "left_join=pd.merge(left, right, on='Grade', how='left')\n",
    "print(left_join)"
   ]
  },
  {
   "cell_type": "code",
   "execution_count": 125,
   "metadata": {},
   "outputs": [
    {
     "name": "stdout",
     "output_type": "stream",
     "text": [
      "   id_x Name_x  Grade  id_y Name_y\n",
      "0  22.0    Sim    4.0    22    Sim\n",
      "1   NaN    NaN    3.1    11    Tom\n",
      "2   NaN    NaN    5.3    33    Rom\n",
      "3   NaN    NaN    5.6    44    Kom\n",
      "4   NaN    NaN    6.1    55    Yom\n"
     ]
    }
   ],
   "source": [
    "right_join=pd.merge(left, right, on='Grade', how='right')\n",
    "print(right_join)"
   ]
  },
  {
   "cell_type": "code",
   "execution_count": 64,
   "metadata": {},
   "outputs": [
    {
     "data": {
      "text/html": [
       "<div>\n",
       "<style scoped>\n",
       "    .dataframe tbody tr th:only-of-type {\n",
       "        vertical-align: middle;\n",
       "    }\n",
       "\n",
       "    .dataframe tbody tr th {\n",
       "        vertical-align: top;\n",
       "    }\n",
       "\n",
       "    .dataframe thead th {\n",
       "        text-align: right;\n",
       "    }\n",
       "</style>\n",
       "<table border=\"1\" class=\"dataframe\">\n",
       "  <thead>\n",
       "    <tr style=\"text-align: right;\">\n",
       "      <th></th>\n",
       "      <th>Batsmen</th>\n",
       "      <th>Bowler</th>\n",
       "      <th>Score</th>\n",
       "      <th>Wicket</th>\n",
       "    </tr>\n",
       "  </thead>\n",
       "  <tbody>\n",
       "    <tr>\n",
       "      <th>0</th>\n",
       "      <td>Sachin</td>\n",
       "      <td>Zaheer</td>\n",
       "      <td>100</td>\n",
       "      <td>10</td>\n",
       "    </tr>\n",
       "    <tr>\n",
       "      <th>1</th>\n",
       "      <td>Virat</td>\n",
       "      <td>Bumrah</td>\n",
       "      <td>200</td>\n",
       "      <td>20</td>\n",
       "    </tr>\n",
       "    <tr>\n",
       "      <th>2</th>\n",
       "      <td>Yuvraj</td>\n",
       "      <td>Bhuvaneshwar</td>\n",
       "      <td>300</td>\n",
       "      <td>30</td>\n",
       "    </tr>\n",
       "  </tbody>\n",
       "</table>\n",
       "</div>"
      ],
      "text/plain": [
       "  Batsmen        Bowler  Score  Wicket\n",
       "0  Sachin        Zaheer    100      10\n",
       "1   Virat        Bumrah    200      20\n",
       "2  Yuvraj  Bhuvaneshwar    300      30"
      ]
     },
     "execution_count": 64,
     "metadata": {},
     "output_type": "execute_result"
    }
   ],
   "source": [
    "# Lets create two DataFrames to merge and join using Dictionary\n",
    "\n",
    "df1=pd.DataFrame({'Batsmen':['Sachin', 'Virat', 'Yuvraj'], 'Bowler': ['Zaheer', 'Bumrah', 'Bhuvaneshwar'],\n",
    "                  'Score':[100, 200, 300], 'Wicket': [10, 20, 30]})\n",
    "df1"
   ]
  },
  {
   "cell_type": "code",
   "execution_count": 82,
   "metadata": {},
   "outputs": [
    {
     "data": {
      "text/html": [
       "<div>\n",
       "<style scoped>\n",
       "    .dataframe tbody tr th:only-of-type {\n",
       "        vertical-align: middle;\n",
       "    }\n",
       "\n",
       "    .dataframe tbody tr th {\n",
       "        vertical-align: top;\n",
       "    }\n",
       "\n",
       "    .dataframe thead th {\n",
       "        text-align: right;\n",
       "    }\n",
       "</style>\n",
       "<table border=\"1\" class=\"dataframe\">\n",
       "  <thead>\n",
       "    <tr style=\"text-align: right;\">\n",
       "      <th></th>\n",
       "      <th>Batsmen</th>\n",
       "      <th>Bowler</th>\n",
       "      <th>Scores</th>\n",
       "      <th>Wicket</th>\n",
       "    </tr>\n",
       "  </thead>\n",
       "  <tbody>\n",
       "    <tr>\n",
       "      <th>0</th>\n",
       "      <td>Dhoni</td>\n",
       "      <td>Jadhav</td>\n",
       "      <td>120</td>\n",
       "      <td>12</td>\n",
       "    </tr>\n",
       "    <tr>\n",
       "      <th>1</th>\n",
       "      <td>Rahul</td>\n",
       "      <td>Bumrah</td>\n",
       "      <td>20</td>\n",
       "      <td>22</td>\n",
       "    </tr>\n",
       "    <tr>\n",
       "      <th>2</th>\n",
       "      <td>Yuvraj</td>\n",
       "      <td>Bhuvaneshwar</td>\n",
       "      <td>100</td>\n",
       "      <td>33</td>\n",
       "    </tr>\n",
       "  </tbody>\n",
       "</table>\n",
       "</div>"
      ],
      "text/plain": [
       "  Batsmen        Bowler  Scores  Wicket\n",
       "0   Dhoni        Jadhav     120      12\n",
       "1   Rahul        Bumrah      20      22\n",
       "2  Yuvraj  Bhuvaneshwar     100      33"
      ]
     },
     "execution_count": 82,
     "metadata": {},
     "output_type": "execute_result"
    }
   ],
   "source": [
    "df2=pd.DataFrame({'Batsmen':['Dhoni', 'Rahul', 'Yuvraj'], 'Bowler': ['Jadhav', 'Bumrah', 'Bhuvaneshwar'],\n",
    "                  'Scores':[120, 20, 100], 'Wicket': [12, 22, 33]})\n",
    "df2"
   ]
  },
  {
   "cell_type": "code",
   "execution_count": 83,
   "metadata": {},
   "outputs": [
    {
     "data": {
      "text/html": [
       "<div>\n",
       "<style scoped>\n",
       "    .dataframe tbody tr th:only-of-type {\n",
       "        vertical-align: middle;\n",
       "    }\n",
       "\n",
       "    .dataframe tbody tr th {\n",
       "        vertical-align: top;\n",
       "    }\n",
       "\n",
       "    .dataframe thead th {\n",
       "        text-align: right;\n",
       "    }\n",
       "</style>\n",
       "<table border=\"1\" class=\"dataframe\">\n",
       "  <thead>\n",
       "    <tr style=\"text-align: right;\">\n",
       "      <th></th>\n",
       "      <th>Batsmen</th>\n",
       "      <th>Bowler_x</th>\n",
       "      <th>Score</th>\n",
       "      <th>Wicket_x</th>\n",
       "      <th>Bowler_y</th>\n",
       "      <th>Scores</th>\n",
       "      <th>Wicket_y</th>\n",
       "    </tr>\n",
       "  </thead>\n",
       "  <tbody>\n",
       "    <tr>\n",
       "      <th>0</th>\n",
       "      <td>Yuvraj</td>\n",
       "      <td>Bhuvaneshwar</td>\n",
       "      <td>300</td>\n",
       "      <td>30</td>\n",
       "      <td>Bhuvaneshwar</td>\n",
       "      <td>100</td>\n",
       "      <td>33</td>\n",
       "    </tr>\n",
       "  </tbody>\n",
       "</table>\n",
       "</div>"
      ],
      "text/plain": [
       "  Batsmen      Bowler_x  Score  Wicket_x      Bowler_y  Scores  Wicket_y\n",
       "0  Yuvraj  Bhuvaneshwar    300        30  Bhuvaneshwar     100        33"
      ]
     },
     "execution_count": 83,
     "metadata": {},
     "output_type": "execute_result"
    }
   ],
   "source": [
    "pd.merge(df1,df2, on='Batsmen', how='inner')"
   ]
  },
  {
   "cell_type": "code",
   "execution_count": 84,
   "metadata": {},
   "outputs": [
    {
     "data": {
      "text/html": [
       "<div>\n",
       "<style scoped>\n",
       "    .dataframe tbody tr th:only-of-type {\n",
       "        vertical-align: middle;\n",
       "    }\n",
       "\n",
       "    .dataframe tbody tr th {\n",
       "        vertical-align: top;\n",
       "    }\n",
       "\n",
       "    .dataframe thead th {\n",
       "        text-align: right;\n",
       "    }\n",
       "</style>\n",
       "<table border=\"1\" class=\"dataframe\">\n",
       "  <thead>\n",
       "    <tr style=\"text-align: right;\">\n",
       "      <th></th>\n",
       "      <th>Batsmen</th>\n",
       "      <th>Bowler_x</th>\n",
       "      <th>Score</th>\n",
       "      <th>Wicket_x</th>\n",
       "      <th>Bowler_y</th>\n",
       "      <th>Scores</th>\n",
       "      <th>Wicket_y</th>\n",
       "    </tr>\n",
       "  </thead>\n",
       "  <tbody>\n",
       "    <tr>\n",
       "      <th>0</th>\n",
       "      <td>Sachin</td>\n",
       "      <td>Zaheer</td>\n",
       "      <td>100.0</td>\n",
       "      <td>10.0</td>\n",
       "      <td>NaN</td>\n",
       "      <td>NaN</td>\n",
       "      <td>NaN</td>\n",
       "    </tr>\n",
       "    <tr>\n",
       "      <th>1</th>\n",
       "      <td>Virat</td>\n",
       "      <td>Bumrah</td>\n",
       "      <td>200.0</td>\n",
       "      <td>20.0</td>\n",
       "      <td>NaN</td>\n",
       "      <td>NaN</td>\n",
       "      <td>NaN</td>\n",
       "    </tr>\n",
       "    <tr>\n",
       "      <th>2</th>\n",
       "      <td>Yuvraj</td>\n",
       "      <td>Bhuvaneshwar</td>\n",
       "      <td>300.0</td>\n",
       "      <td>30.0</td>\n",
       "      <td>Bhuvaneshwar</td>\n",
       "      <td>100.0</td>\n",
       "      <td>33.0</td>\n",
       "    </tr>\n",
       "    <tr>\n",
       "      <th>3</th>\n",
       "      <td>Dhoni</td>\n",
       "      <td>NaN</td>\n",
       "      <td>NaN</td>\n",
       "      <td>NaN</td>\n",
       "      <td>Jadhav</td>\n",
       "      <td>120.0</td>\n",
       "      <td>12.0</td>\n",
       "    </tr>\n",
       "    <tr>\n",
       "      <th>4</th>\n",
       "      <td>Rahul</td>\n",
       "      <td>NaN</td>\n",
       "      <td>NaN</td>\n",
       "      <td>NaN</td>\n",
       "      <td>Bumrah</td>\n",
       "      <td>20.0</td>\n",
       "      <td>22.0</td>\n",
       "    </tr>\n",
       "  </tbody>\n",
       "</table>\n",
       "</div>"
      ],
      "text/plain": [
       "  Batsmen      Bowler_x  Score  Wicket_x      Bowler_y  Scores  Wicket_y\n",
       "0  Sachin        Zaheer  100.0      10.0           NaN     NaN       NaN\n",
       "1   Virat        Bumrah  200.0      20.0           NaN     NaN       NaN\n",
       "2  Yuvraj  Bhuvaneshwar  300.0      30.0  Bhuvaneshwar   100.0      33.0\n",
       "3   Dhoni           NaN    NaN       NaN        Jadhav   120.0      12.0\n",
       "4   Rahul           NaN    NaN       NaN        Bumrah    20.0      22.0"
      ]
     },
     "execution_count": 84,
     "metadata": {},
     "output_type": "execute_result"
    }
   ],
   "source": [
    "pd.merge(df1, df2, on='Batsmen', how='outer')  # It displays NaN when coulumns does not match"
   ]
  },
  {
   "cell_type": "code",
   "execution_count": 85,
   "metadata": {},
   "outputs": [
    {
     "data": {
      "text/html": [
       "<div>\n",
       "<style scoped>\n",
       "    .dataframe tbody tr th:only-of-type {\n",
       "        vertical-align: middle;\n",
       "    }\n",
       "\n",
       "    .dataframe tbody tr th {\n",
       "        vertical-align: top;\n",
       "    }\n",
       "\n",
       "    .dataframe thead th {\n",
       "        text-align: right;\n",
       "    }\n",
       "</style>\n",
       "<table border=\"1\" class=\"dataframe\">\n",
       "  <thead>\n",
       "    <tr style=\"text-align: right;\">\n",
       "      <th></th>\n",
       "      <th>Batsmen_x</th>\n",
       "      <th>Bowler</th>\n",
       "      <th>Score</th>\n",
       "      <th>Wicket_x</th>\n",
       "      <th>Batsmen_y</th>\n",
       "      <th>Scores</th>\n",
       "      <th>Wicket_y</th>\n",
       "    </tr>\n",
       "  </thead>\n",
       "  <tbody>\n",
       "    <tr>\n",
       "      <th>0</th>\n",
       "      <td>Virat</td>\n",
       "      <td>Bumrah</td>\n",
       "      <td>200</td>\n",
       "      <td>20</td>\n",
       "      <td>Rahul</td>\n",
       "      <td>20</td>\n",
       "      <td>22</td>\n",
       "    </tr>\n",
       "    <tr>\n",
       "      <th>1</th>\n",
       "      <td>Yuvraj</td>\n",
       "      <td>Bhuvaneshwar</td>\n",
       "      <td>300</td>\n",
       "      <td>30</td>\n",
       "      <td>Yuvraj</td>\n",
       "      <td>100</td>\n",
       "      <td>33</td>\n",
       "    </tr>\n",
       "  </tbody>\n",
       "</table>\n",
       "</div>"
      ],
      "text/plain": [
       "  Batsmen_x        Bowler  Score  Wicket_x Batsmen_y  Scores  Wicket_y\n",
       "0     Virat        Bumrah    200        20     Rahul      20        22\n",
       "1    Yuvraj  Bhuvaneshwar    300        30    Yuvraj     100        33"
      ]
     },
     "execution_count": 85,
     "metadata": {},
     "output_type": "execute_result"
    }
   ],
   "source": [
    "pd.merge(df1, df2, on='Bowler', how='inner')  "
   ]
  },
  {
   "cell_type": "code",
   "execution_count": 86,
   "metadata": {},
   "outputs": [
    {
     "data": {
      "text/html": [
       "<div>\n",
       "<style scoped>\n",
       "    .dataframe tbody tr th:only-of-type {\n",
       "        vertical-align: middle;\n",
       "    }\n",
       "\n",
       "    .dataframe tbody tr th {\n",
       "        vertical-align: top;\n",
       "    }\n",
       "\n",
       "    .dataframe thead th {\n",
       "        text-align: right;\n",
       "    }\n",
       "</style>\n",
       "<table border=\"1\" class=\"dataframe\">\n",
       "  <thead>\n",
       "    <tr style=\"text-align: right;\">\n",
       "      <th></th>\n",
       "      <th>Batsmen_x</th>\n",
       "      <th>Bowler</th>\n",
       "      <th>Score</th>\n",
       "      <th>Wicket_x</th>\n",
       "      <th>Batsmen_y</th>\n",
       "      <th>Scores</th>\n",
       "      <th>Wicket_y</th>\n",
       "    </tr>\n",
       "  </thead>\n",
       "  <tbody>\n",
       "    <tr>\n",
       "      <th>0</th>\n",
       "      <td>Sachin</td>\n",
       "      <td>Zaheer</td>\n",
       "      <td>100.0</td>\n",
       "      <td>10.0</td>\n",
       "      <td>NaN</td>\n",
       "      <td>NaN</td>\n",
       "      <td>NaN</td>\n",
       "    </tr>\n",
       "    <tr>\n",
       "      <th>1</th>\n",
       "      <td>Virat</td>\n",
       "      <td>Bumrah</td>\n",
       "      <td>200.0</td>\n",
       "      <td>20.0</td>\n",
       "      <td>Rahul</td>\n",
       "      <td>20.0</td>\n",
       "      <td>22.0</td>\n",
       "    </tr>\n",
       "    <tr>\n",
       "      <th>2</th>\n",
       "      <td>Yuvraj</td>\n",
       "      <td>Bhuvaneshwar</td>\n",
       "      <td>300.0</td>\n",
       "      <td>30.0</td>\n",
       "      <td>Yuvraj</td>\n",
       "      <td>100.0</td>\n",
       "      <td>33.0</td>\n",
       "    </tr>\n",
       "    <tr>\n",
       "      <th>3</th>\n",
       "      <td>NaN</td>\n",
       "      <td>Jadhav</td>\n",
       "      <td>NaN</td>\n",
       "      <td>NaN</td>\n",
       "      <td>Dhoni</td>\n",
       "      <td>120.0</td>\n",
       "      <td>12.0</td>\n",
       "    </tr>\n",
       "  </tbody>\n",
       "</table>\n",
       "</div>"
      ],
      "text/plain": [
       "  Batsmen_x        Bowler  Score  Wicket_x Batsmen_y  Scores  Wicket_y\n",
       "0    Sachin        Zaheer  100.0      10.0       NaN     NaN       NaN\n",
       "1     Virat        Bumrah  200.0      20.0     Rahul    20.0      22.0\n",
       "2    Yuvraj  Bhuvaneshwar  300.0      30.0    Yuvraj   100.0      33.0\n",
       "3       NaN        Jadhav    NaN       NaN     Dhoni   120.0      12.0"
      ]
     },
     "execution_count": 86,
     "metadata": {},
     "output_type": "execute_result"
    }
   ],
   "source": [
    "pd.merge(df1, df2, on='Bowler', how='outer')  "
   ]
  },
  {
   "cell_type": "code",
   "execution_count": 87,
   "metadata": {},
   "outputs": [
    {
     "data": {
      "text/html": [
       "<div>\n",
       "<style scoped>\n",
       "    .dataframe tbody tr th:only-of-type {\n",
       "        vertical-align: middle;\n",
       "    }\n",
       "\n",
       "    .dataframe tbody tr th {\n",
       "        vertical-align: top;\n",
       "    }\n",
       "\n",
       "    .dataframe thead th {\n",
       "        text-align: right;\n",
       "    }\n",
       "</style>\n",
       "<table border=\"1\" class=\"dataframe\">\n",
       "  <thead>\n",
       "    <tr style=\"text-align: right;\">\n",
       "      <th></th>\n",
       "      <th>Batsmen_x</th>\n",
       "      <th>Bowler</th>\n",
       "      <th>Score</th>\n",
       "      <th>Wicket_x</th>\n",
       "      <th>Batsmen_y</th>\n",
       "      <th>Scores</th>\n",
       "      <th>Wicket_y</th>\n",
       "    </tr>\n",
       "  </thead>\n",
       "  <tbody>\n",
       "    <tr>\n",
       "      <th>0</th>\n",
       "      <td>Sachin</td>\n",
       "      <td>Zaheer</td>\n",
       "      <td>100</td>\n",
       "      <td>10</td>\n",
       "      <td>NaN</td>\n",
       "      <td>NaN</td>\n",
       "      <td>NaN</td>\n",
       "    </tr>\n",
       "    <tr>\n",
       "      <th>1</th>\n",
       "      <td>Virat</td>\n",
       "      <td>Bumrah</td>\n",
       "      <td>200</td>\n",
       "      <td>20</td>\n",
       "      <td>Rahul</td>\n",
       "      <td>20.0</td>\n",
       "      <td>22.0</td>\n",
       "    </tr>\n",
       "    <tr>\n",
       "      <th>2</th>\n",
       "      <td>Yuvraj</td>\n",
       "      <td>Bhuvaneshwar</td>\n",
       "      <td>300</td>\n",
       "      <td>30</td>\n",
       "      <td>Yuvraj</td>\n",
       "      <td>100.0</td>\n",
       "      <td>33.0</td>\n",
       "    </tr>\n",
       "  </tbody>\n",
       "</table>\n",
       "</div>"
      ],
      "text/plain": [
       "  Batsmen_x        Bowler  Score  Wicket_x Batsmen_y  Scores  Wicket_y\n",
       "0    Sachin        Zaheer    100        10       NaN     NaN       NaN\n",
       "1     Virat        Bumrah    200        20     Rahul    20.0      22.0\n",
       "2    Yuvraj  Bhuvaneshwar    300        30    Yuvraj   100.0      33.0"
      ]
     },
     "execution_count": 87,
     "metadata": {},
     "output_type": "execute_result"
    }
   ],
   "source": [
    "pd.merge(df1, df2, on='Bowler', how='left')  "
   ]
  },
  {
   "cell_type": "code",
   "execution_count": 88,
   "metadata": {},
   "outputs": [
    {
     "data": {
      "text/html": [
       "<div>\n",
       "<style scoped>\n",
       "    .dataframe tbody tr th:only-of-type {\n",
       "        vertical-align: middle;\n",
       "    }\n",
       "\n",
       "    .dataframe tbody tr th {\n",
       "        vertical-align: top;\n",
       "    }\n",
       "\n",
       "    .dataframe thead th {\n",
       "        text-align: right;\n",
       "    }\n",
       "</style>\n",
       "<table border=\"1\" class=\"dataframe\">\n",
       "  <thead>\n",
       "    <tr style=\"text-align: right;\">\n",
       "      <th></th>\n",
       "      <th>Batsmen_x</th>\n",
       "      <th>Bowler</th>\n",
       "      <th>Score</th>\n",
       "      <th>Wicket_x</th>\n",
       "      <th>Batsmen_y</th>\n",
       "      <th>Scores</th>\n",
       "      <th>Wicket_y</th>\n",
       "    </tr>\n",
       "  </thead>\n",
       "  <tbody>\n",
       "    <tr>\n",
       "      <th>0</th>\n",
       "      <td>Virat</td>\n",
       "      <td>Bumrah</td>\n",
       "      <td>200.0</td>\n",
       "      <td>20.0</td>\n",
       "      <td>Rahul</td>\n",
       "      <td>20</td>\n",
       "      <td>22</td>\n",
       "    </tr>\n",
       "    <tr>\n",
       "      <th>1</th>\n",
       "      <td>Yuvraj</td>\n",
       "      <td>Bhuvaneshwar</td>\n",
       "      <td>300.0</td>\n",
       "      <td>30.0</td>\n",
       "      <td>Yuvraj</td>\n",
       "      <td>100</td>\n",
       "      <td>33</td>\n",
       "    </tr>\n",
       "    <tr>\n",
       "      <th>2</th>\n",
       "      <td>NaN</td>\n",
       "      <td>Jadhav</td>\n",
       "      <td>NaN</td>\n",
       "      <td>NaN</td>\n",
       "      <td>Dhoni</td>\n",
       "      <td>120</td>\n",
       "      <td>12</td>\n",
       "    </tr>\n",
       "  </tbody>\n",
       "</table>\n",
       "</div>"
      ],
      "text/plain": [
       "  Batsmen_x        Bowler  Score  Wicket_x Batsmen_y  Scores  Wicket_y\n",
       "0     Virat        Bumrah  200.0      20.0     Rahul      20        22\n",
       "1    Yuvraj  Bhuvaneshwar  300.0      30.0    Yuvraj     100        33\n",
       "2       NaN        Jadhav    NaN       NaN     Dhoni     120        12"
      ]
     },
     "execution_count": 88,
     "metadata": {},
     "output_type": "execute_result"
    }
   ],
   "source": [
    "pd.merge(df1, df2, on='Bowler', how='right')  "
   ]
  },
  {
   "cell_type": "code",
   "execution_count": 93,
   "metadata": {},
   "outputs": [
    {
     "data": {
      "text/html": [
       "<div>\n",
       "<style scoped>\n",
       "    .dataframe tbody tr th:only-of-type {\n",
       "        vertical-align: middle;\n",
       "    }\n",
       "\n",
       "    .dataframe tbody tr th {\n",
       "        vertical-align: top;\n",
       "    }\n",
       "\n",
       "    .dataframe thead th {\n",
       "        text-align: right;\n",
       "    }\n",
       "</style>\n",
       "<table border=\"1\" class=\"dataframe\">\n",
       "  <thead>\n",
       "    <tr style=\"text-align: right;\">\n",
       "      <th></th>\n",
       "      <th>Batsmen_x</th>\n",
       "      <th>Bowler_x</th>\n",
       "      <th>Score</th>\n",
       "      <th>Wicket</th>\n",
       "      <th>Batsmen_y</th>\n",
       "      <th>Bowler_y</th>\n",
       "      <th>Scores</th>\n",
       "    </tr>\n",
       "  </thead>\n",
       "  <tbody>\n",
       "    <tr>\n",
       "      <th>0</th>\n",
       "      <td>Sachin</td>\n",
       "      <td>Zaheer</td>\n",
       "      <td>100</td>\n",
       "      <td>10</td>\n",
       "      <td>NaN</td>\n",
       "      <td>NaN</td>\n",
       "      <td>NaN</td>\n",
       "    </tr>\n",
       "    <tr>\n",
       "      <th>1</th>\n",
       "      <td>Virat</td>\n",
       "      <td>Bumrah</td>\n",
       "      <td>200</td>\n",
       "      <td>20</td>\n",
       "      <td>NaN</td>\n",
       "      <td>NaN</td>\n",
       "      <td>NaN</td>\n",
       "    </tr>\n",
       "    <tr>\n",
       "      <th>2</th>\n",
       "      <td>Yuvraj</td>\n",
       "      <td>Bhuvaneshwar</td>\n",
       "      <td>300</td>\n",
       "      <td>30</td>\n",
       "      <td>NaN</td>\n",
       "      <td>NaN</td>\n",
       "      <td>NaN</td>\n",
       "    </tr>\n",
       "  </tbody>\n",
       "</table>\n",
       "</div>"
      ],
      "text/plain": [
       "  Batsmen_x      Bowler_x  Score  Wicket Batsmen_y Bowler_y  Scores\n",
       "0    Sachin        Zaheer    100      10       NaN      NaN     NaN\n",
       "1     Virat        Bumrah    200      20       NaN      NaN     NaN\n",
       "2    Yuvraj  Bhuvaneshwar    300      30       NaN      NaN     NaN"
      ]
     },
     "execution_count": 93,
     "metadata": {},
     "output_type": "execute_result"
    }
   ],
   "source": [
    "pd.merge(df1,df2, on='Wicket', how='left')"
   ]
  },
  {
   "cell_type": "code",
   "execution_count": 94,
   "metadata": {},
   "outputs": [
    {
     "data": {
      "text/html": [
       "<div>\n",
       "<style scoped>\n",
       "    .dataframe tbody tr th:only-of-type {\n",
       "        vertical-align: middle;\n",
       "    }\n",
       "\n",
       "    .dataframe tbody tr th {\n",
       "        vertical-align: top;\n",
       "    }\n",
       "\n",
       "    .dataframe thead th {\n",
       "        text-align: right;\n",
       "    }\n",
       "</style>\n",
       "<table border=\"1\" class=\"dataframe\">\n",
       "  <thead>\n",
       "    <tr style=\"text-align: right;\">\n",
       "      <th></th>\n",
       "      <th>Batsmen_x</th>\n",
       "      <th>Bowler_x</th>\n",
       "      <th>Score</th>\n",
       "      <th>Wicket</th>\n",
       "      <th>Batsmen_y</th>\n",
       "      <th>Bowler_y</th>\n",
       "      <th>Scores</th>\n",
       "    </tr>\n",
       "  </thead>\n",
       "  <tbody>\n",
       "    <tr>\n",
       "      <th>0</th>\n",
       "      <td>NaN</td>\n",
       "      <td>NaN</td>\n",
       "      <td>NaN</td>\n",
       "      <td>12</td>\n",
       "      <td>Dhoni</td>\n",
       "      <td>Jadhav</td>\n",
       "      <td>120</td>\n",
       "    </tr>\n",
       "    <tr>\n",
       "      <th>1</th>\n",
       "      <td>NaN</td>\n",
       "      <td>NaN</td>\n",
       "      <td>NaN</td>\n",
       "      <td>22</td>\n",
       "      <td>Rahul</td>\n",
       "      <td>Bumrah</td>\n",
       "      <td>20</td>\n",
       "    </tr>\n",
       "    <tr>\n",
       "      <th>2</th>\n",
       "      <td>NaN</td>\n",
       "      <td>NaN</td>\n",
       "      <td>NaN</td>\n",
       "      <td>33</td>\n",
       "      <td>Yuvraj</td>\n",
       "      <td>Bhuvaneshwar</td>\n",
       "      <td>100</td>\n",
       "    </tr>\n",
       "  </tbody>\n",
       "</table>\n",
       "</div>"
      ],
      "text/plain": [
       "  Batsmen_x Bowler_x  Score  Wicket Batsmen_y      Bowler_y  Scores\n",
       "0       NaN      NaN    NaN      12     Dhoni        Jadhav     120\n",
       "1       NaN      NaN    NaN      22     Rahul        Bumrah      20\n",
       "2       NaN      NaN    NaN      33    Yuvraj  Bhuvaneshwar     100"
      ]
     },
     "execution_count": 94,
     "metadata": {},
     "output_type": "execute_result"
    }
   ],
   "source": [
    "pd.merge(df1,df2, on='Wicket', how='right')"
   ]
  },
  {
   "cell_type": "code",
   "execution_count": 96,
   "metadata": {},
   "outputs": [
    {
     "data": {
      "text/html": [
       "<div>\n",
       "<style scoped>\n",
       "    .dataframe tbody tr th:only-of-type {\n",
       "        vertical-align: middle;\n",
       "    }\n",
       "\n",
       "    .dataframe tbody tr th {\n",
       "        vertical-align: top;\n",
       "    }\n",
       "\n",
       "    .dataframe thead th {\n",
       "        text-align: right;\n",
       "    }\n",
       "</style>\n",
       "<table border=\"1\" class=\"dataframe\">\n",
       "  <thead>\n",
       "    <tr style=\"text-align: right;\">\n",
       "      <th></th>\n",
       "      <th>Batsmen_x</th>\n",
       "      <th>Bowler</th>\n",
       "      <th>Score</th>\n",
       "      <th>Wicket</th>\n",
       "      <th>Batsmen_y</th>\n",
       "      <th>Scores</th>\n",
       "    </tr>\n",
       "  </thead>\n",
       "  <tbody>\n",
       "    <tr>\n",
       "      <th>0</th>\n",
       "      <td>Sachin</td>\n",
       "      <td>Zaheer</td>\n",
       "      <td>100</td>\n",
       "      <td>10</td>\n",
       "      <td>NaN</td>\n",
       "      <td>NaN</td>\n",
       "    </tr>\n",
       "    <tr>\n",
       "      <th>1</th>\n",
       "      <td>Virat</td>\n",
       "      <td>Bumrah</td>\n",
       "      <td>200</td>\n",
       "      <td>20</td>\n",
       "      <td>NaN</td>\n",
       "      <td>NaN</td>\n",
       "    </tr>\n",
       "    <tr>\n",
       "      <th>2</th>\n",
       "      <td>Yuvraj</td>\n",
       "      <td>Bhuvaneshwar</td>\n",
       "      <td>300</td>\n",
       "      <td>30</td>\n",
       "      <td>NaN</td>\n",
       "      <td>NaN</td>\n",
       "    </tr>\n",
       "  </tbody>\n",
       "</table>\n",
       "</div>"
      ],
      "text/plain": [
       "  Batsmen_x        Bowler  Score  Wicket Batsmen_y  Scores\n",
       "0    Sachin        Zaheer    100      10       NaN     NaN\n",
       "1     Virat        Bumrah    200      20       NaN     NaN\n",
       "2    Yuvraj  Bhuvaneshwar    300      30       NaN     NaN"
      ]
     },
     "execution_count": 96,
     "metadata": {},
     "output_type": "execute_result"
    }
   ],
   "source": [
    "pd.merge(df1,df2, on=['Wicket', 'Bowler'], how='left')"
   ]
  },
  {
   "cell_type": "code",
   "execution_count": 98,
   "metadata": {},
   "outputs": [
    {
     "data": {
      "text/html": [
       "<div>\n",
       "<style scoped>\n",
       "    .dataframe tbody tr th:only-of-type {\n",
       "        vertical-align: middle;\n",
       "    }\n",
       "\n",
       "    .dataframe tbody tr th {\n",
       "        vertical-align: top;\n",
       "    }\n",
       "\n",
       "    .dataframe thead th {\n",
       "        text-align: right;\n",
       "    }\n",
       "</style>\n",
       "<table border=\"1\" class=\"dataframe\">\n",
       "  <thead>\n",
       "    <tr style=\"text-align: right;\">\n",
       "      <th></th>\n",
       "      <th>Batsmen_x</th>\n",
       "      <th>Bowler</th>\n",
       "      <th>Score</th>\n",
       "      <th>Wicket</th>\n",
       "      <th>Batsmen_y</th>\n",
       "      <th>Scores</th>\n",
       "    </tr>\n",
       "  </thead>\n",
       "  <tbody>\n",
       "    <tr>\n",
       "      <th>0</th>\n",
       "      <td>Sachin</td>\n",
       "      <td>Zaheer</td>\n",
       "      <td>100.0</td>\n",
       "      <td>10</td>\n",
       "      <td>NaN</td>\n",
       "      <td>NaN</td>\n",
       "    </tr>\n",
       "    <tr>\n",
       "      <th>1</th>\n",
       "      <td>Virat</td>\n",
       "      <td>Bumrah</td>\n",
       "      <td>200.0</td>\n",
       "      <td>20</td>\n",
       "      <td>NaN</td>\n",
       "      <td>NaN</td>\n",
       "    </tr>\n",
       "    <tr>\n",
       "      <th>2</th>\n",
       "      <td>Yuvraj</td>\n",
       "      <td>Bhuvaneshwar</td>\n",
       "      <td>300.0</td>\n",
       "      <td>30</td>\n",
       "      <td>NaN</td>\n",
       "      <td>NaN</td>\n",
       "    </tr>\n",
       "    <tr>\n",
       "      <th>3</th>\n",
       "      <td>NaN</td>\n",
       "      <td>Jadhav</td>\n",
       "      <td>NaN</td>\n",
       "      <td>12</td>\n",
       "      <td>Dhoni</td>\n",
       "      <td>120.0</td>\n",
       "    </tr>\n",
       "    <tr>\n",
       "      <th>4</th>\n",
       "      <td>NaN</td>\n",
       "      <td>Bumrah</td>\n",
       "      <td>NaN</td>\n",
       "      <td>22</td>\n",
       "      <td>Rahul</td>\n",
       "      <td>20.0</td>\n",
       "    </tr>\n",
       "    <tr>\n",
       "      <th>5</th>\n",
       "      <td>NaN</td>\n",
       "      <td>Bhuvaneshwar</td>\n",
       "      <td>NaN</td>\n",
       "      <td>33</td>\n",
       "      <td>Yuvraj</td>\n",
       "      <td>100.0</td>\n",
       "    </tr>\n",
       "  </tbody>\n",
       "</table>\n",
       "</div>"
      ],
      "text/plain": [
       "  Batsmen_x        Bowler  Score  Wicket Batsmen_y  Scores\n",
       "0    Sachin        Zaheer  100.0      10       NaN     NaN\n",
       "1     Virat        Bumrah  200.0      20       NaN     NaN\n",
       "2    Yuvraj  Bhuvaneshwar  300.0      30       NaN     NaN\n",
       "3       NaN        Jadhav    NaN      12     Dhoni   120.0\n",
       "4       NaN        Bumrah    NaN      22     Rahul    20.0\n",
       "5       NaN  Bhuvaneshwar    NaN      33    Yuvraj   100.0"
      ]
     },
     "execution_count": 98,
     "metadata": {},
     "output_type": "execute_result"
    }
   ],
   "source": [
    "pd.merge(df1,df2, on=['Wicket', 'Bowler'], how='outer')"
   ]
  },
  {
   "cell_type": "markdown",
   "metadata": {},
   "source": [
    "## Concatenation"
   ]
  },
  {
   "cell_type": "raw",
   "metadata": {},
   "source": [
    "Pandas provides various ways to combine Series, and DataFrames easily."
   ]
  },
  {
   "cell_type": "raw",
   "metadata": {},
   "source": [
    "# Attributes\n",
    "\n",
    "pd.concat(objs,axis=0,join='outer',join_axes=None,ignore_index=False)\n",
    "\n",
    "# Press shift+tab to know about attributes and their description.\n",
    "\n"
   ]
  },
  {
   "cell_type": "code",
   "execution_count": 135,
   "metadata": {},
   "outputs": [
    {
     "name": "stdout",
     "output_type": "stream",
     "text": [
      "      Name    subject  Marks\n",
      "0     John    English     87\n",
      "1  Johnson    Physics     90\n",
      "2    Johny  Chemistry     91\n",
      "3   Jockey      Maths     93 \n",
      "\n",
      "       Name    subject  Marks\n",
      "0     David    English     93\n",
      "1    Dravid  Chemistry     85\n",
      "2      Adam    Science     96\n",
      "3  Bairstow    Spanish     99 \n",
      "\n"
     ]
    },
    {
     "data": {
      "text/html": [
       "<div>\n",
       "<style scoped>\n",
       "    .dataframe tbody tr th:only-of-type {\n",
       "        vertical-align: middle;\n",
       "    }\n",
       "\n",
       "    .dataframe tbody tr th {\n",
       "        vertical-align: top;\n",
       "    }\n",
       "\n",
       "    .dataframe thead th {\n",
       "        text-align: right;\n",
       "    }\n",
       "</style>\n",
       "<table border=\"1\" class=\"dataframe\">\n",
       "  <thead>\n",
       "    <tr style=\"text-align: right;\">\n",
       "      <th></th>\n",
       "      <th>Name</th>\n",
       "      <th>subject</th>\n",
       "      <th>Marks</th>\n",
       "    </tr>\n",
       "  </thead>\n",
       "  <tbody>\n",
       "    <tr>\n",
       "      <th>0</th>\n",
       "      <td>John</td>\n",
       "      <td>English</td>\n",
       "      <td>87</td>\n",
       "    </tr>\n",
       "    <tr>\n",
       "      <th>1</th>\n",
       "      <td>Johnson</td>\n",
       "      <td>Physics</td>\n",
       "      <td>90</td>\n",
       "    </tr>\n",
       "    <tr>\n",
       "      <th>2</th>\n",
       "      <td>Johny</td>\n",
       "      <td>Chemistry</td>\n",
       "      <td>91</td>\n",
       "    </tr>\n",
       "    <tr>\n",
       "      <th>3</th>\n",
       "      <td>Jockey</td>\n",
       "      <td>Maths</td>\n",
       "      <td>93</td>\n",
       "    </tr>\n",
       "    <tr>\n",
       "      <th>0</th>\n",
       "      <td>David</td>\n",
       "      <td>English</td>\n",
       "      <td>93</td>\n",
       "    </tr>\n",
       "    <tr>\n",
       "      <th>1</th>\n",
       "      <td>Dravid</td>\n",
       "      <td>Chemistry</td>\n",
       "      <td>85</td>\n",
       "    </tr>\n",
       "    <tr>\n",
       "      <th>2</th>\n",
       "      <td>Adam</td>\n",
       "      <td>Science</td>\n",
       "      <td>96</td>\n",
       "    </tr>\n",
       "    <tr>\n",
       "      <th>3</th>\n",
       "      <td>Bairstow</td>\n",
       "      <td>Spanish</td>\n",
       "      <td>99</td>\n",
       "    </tr>\n",
       "  </tbody>\n",
       "</table>\n",
       "</div>"
      ],
      "text/plain": [
       "       Name    subject  Marks\n",
       "0      John    English     87\n",
       "1   Johnson    Physics     90\n",
       "2     Johny  Chemistry     91\n",
       "3    Jockey      Maths     93\n",
       "0     David    English     93\n",
       "1    Dravid  Chemistry     85\n",
       "2      Adam    Science     96\n",
       "3  Bairstow    Spanish     99"
      ]
     },
     "execution_count": 135,
     "metadata": {},
     "output_type": "execute_result"
    }
   ],
   "source": [
    "import pandas as pd\n",
    "score_card1 = pd.DataFrame({\n",
    "    'Name':['John', 'Johnson', 'Johny', 'Jockey'],\n",
    "    'subject':['English', 'Physics', 'Chemistry', 'Maths'],\n",
    "    'Marks' : [87, 90, 91, 93]\n",
    "                           })\n",
    "score_card2= pd.DataFrame({\n",
    "    'Name' : ['David', 'Dravid', 'Adam', 'Bairstow'],\n",
    "    'subject': ['English', 'Chemistry', 'Science', 'Spanish'],\n",
    "    'Marks': [93,85,96,99]\n",
    "})\n",
    "print(score_card1, '\\n')\n",
    "print(score_card2, '\\n')\n",
    "concat= pd.concat([score_card1, score_card2])\n",
    "concat"
   ]
  },
  {
   "cell_type": "code",
   "execution_count": 136,
   "metadata": {},
   "outputs": [
    {
     "data": {
      "text/html": [
       "<div>\n",
       "<style scoped>\n",
       "    .dataframe tbody tr th:only-of-type {\n",
       "        vertical-align: middle;\n",
       "    }\n",
       "\n",
       "    .dataframe tbody tr th {\n",
       "        vertical-align: top;\n",
       "    }\n",
       "\n",
       "    .dataframe thead th {\n",
       "        text-align: right;\n",
       "    }\n",
       "</style>\n",
       "<table border=\"1\" class=\"dataframe\">\n",
       "  <thead>\n",
       "    <tr style=\"text-align: right;\">\n",
       "      <th></th>\n",
       "      <th>Name</th>\n",
       "      <th>subject</th>\n",
       "      <th>Marks</th>\n",
       "      <th>Name</th>\n",
       "      <th>subject</th>\n",
       "      <th>Marks</th>\n",
       "    </tr>\n",
       "  </thead>\n",
       "  <tbody>\n",
       "    <tr>\n",
       "      <th>0</th>\n",
       "      <td>John</td>\n",
       "      <td>English</td>\n",
       "      <td>87</td>\n",
       "      <td>David</td>\n",
       "      <td>English</td>\n",
       "      <td>93</td>\n",
       "    </tr>\n",
       "    <tr>\n",
       "      <th>1</th>\n",
       "      <td>Johnson</td>\n",
       "      <td>Physics</td>\n",
       "      <td>90</td>\n",
       "      <td>Dravid</td>\n",
       "      <td>Chemistry</td>\n",
       "      <td>85</td>\n",
       "    </tr>\n",
       "    <tr>\n",
       "      <th>2</th>\n",
       "      <td>Johny</td>\n",
       "      <td>Chemistry</td>\n",
       "      <td>91</td>\n",
       "      <td>Adam</td>\n",
       "      <td>Science</td>\n",
       "      <td>96</td>\n",
       "    </tr>\n",
       "    <tr>\n",
       "      <th>3</th>\n",
       "      <td>Jockey</td>\n",
       "      <td>Maths</td>\n",
       "      <td>93</td>\n",
       "      <td>Bairstow</td>\n",
       "      <td>Spanish</td>\n",
       "      <td>99</td>\n",
       "    </tr>\n",
       "  </tbody>\n",
       "</table>\n",
       "</div>"
      ],
      "text/plain": [
       "      Name    subject  Marks      Name    subject  Marks\n",
       "0     John    English     87     David    English     93\n",
       "1  Johnson    Physics     90    Dravid  Chemistry     85\n",
       "2    Johny  Chemistry     91      Adam    Science     96\n",
       "3   Jockey      Maths     93  Bairstow    Spanish     99"
      ]
     },
     "execution_count": 136,
     "metadata": {},
     "output_type": "execute_result"
    }
   ],
   "source": [
    "pd.concat([score_card1, score_card2],axis=1)\n"
   ]
  },
  {
   "cell_type": "markdown",
   "metadata": {},
   "source": [
    "## Time series"
   ]
  },
  {
   "cell_type": "raw",
   "metadata": {},
   "source": [
    "Pandas also provide Time series data for Time series analysis, stocks, and sensex\n",
    "Generally, we come accross\n",
    "\n",
    "- Converting time series to different frequencies.\n",
    "- Generating Time sequence."
   ]
  },
  {
   "cell_type": "markdown",
   "metadata": {},
   "source": [
    "#### datatime.now() : it displays current data and time"
   ]
  },
  {
   "cell_type": "code",
   "execution_count": 138,
   "metadata": {},
   "outputs": [
    {
     "name": "stdout",
     "output_type": "stream",
     "text": [
      "2020-10-11 13:57:35.716434\n"
     ]
    },
    {
     "name": "stderr",
     "output_type": "stream",
     "text": [
      "<ipython-input-138-9df5e273d28e>:2: FutureWarning: The pandas.datetime class is deprecated and will be removed from pandas in a future version. Import from datetime module instead.\n",
      "  print(pd.datetime.now())\n"
     ]
    }
   ],
   "source": [
    "import pandas as pd\n",
    "print(pd.datetime.now())"
   ]
  },
  {
   "cell_type": "raw",
   "metadata": {},
   "source": [
    "Timestamp - it means using the points in time. Let’s take an example −\n",
    "Associates value with points"
   ]
  },
  {
   "cell_type": "code",
   "execution_count": 140,
   "metadata": {},
   "outputs": [
    {
     "data": {
      "text/plain": [
       "Timestamp('2020-10-11 00:00:00')"
      ]
     },
     "execution_count": 140,
     "metadata": {},
     "output_type": "execute_result"
    }
   ],
   "source": [
    "pd.Timestamp('2020-10-11')"
   ]
  },
  {
   "cell_type": "code",
   "execution_count": 146,
   "metadata": {},
   "outputs": [
    {
     "data": {
      "text/plain": [
       "array([datetime.time(11, 0), datetime.time(11, 30), datetime.time(12, 0),\n",
       "       datetime.time(12, 30)], dtype=object)"
      ]
     },
     "execution_count": 146,
     "metadata": {},
     "output_type": "execute_result"
    }
   ],
   "source": [
    "pd.date_range(\"11:00\", \"12:30\", freq=\"30min\").time     # jus like range function"
   ]
  },
  {
   "cell_type": "code",
   "execution_count": 147,
   "metadata": {},
   "outputs": [
    {
     "data": {
      "text/plain": [
       "array([datetime.time(10, 0), datetime.time(11, 0), datetime.time(12, 0)],\n",
       "      dtype=object)"
      ]
     },
     "execution_count": 147,
     "metadata": {},
     "output_type": "execute_result"
    }
   ],
   "source": [
    "pd.date_range('10:00', '12:30', freq='H').time"
   ]
  },
  {
   "cell_type": "code",
   "execution_count": 150,
   "metadata": {},
   "outputs": [
    {
     "data": {
      "text/plain": [
       "0   2020-10-20\n",
       "1   2020-01-10\n",
       "2          NaT\n",
       "dtype: datetime64[ns]"
      ]
     },
     "execution_count": 150,
     "metadata": {},
     "output_type": "execute_result"
    }
   ],
   "source": [
    "pd.to_datetime(pd.Series(['Oct 20, 2020','2020-01-10', None]))\n"
   ]
  },
  {
   "cell_type": "code",
   "execution_count": 151,
   "metadata": {},
   "outputs": [],
   "source": [
    "# NaT is just like NaN\n",
    "# NaT - Not a Time"
   ]
  },
  {
   "cell_type": "code",
   "execution_count": 153,
   "metadata": {},
   "outputs": [
    {
     "data": {
      "text/plain": [
       "DatetimeIndex(['2020-10-11', '2020-10-12', '2020-10-13', '2020-10-14',\n",
       "               '2020-10-15'],\n",
       "              dtype='datetime64[ns]', freq='D')"
      ]
     },
     "execution_count": 153,
     "metadata": {},
     "output_type": "execute_result"
    }
   ],
   "source": [
    "pd.date_range('10/11/2020', periods=5)  # period displays no of days jus like frequency"
   ]
  },
  {
   "cell_type": "code",
   "execution_count": null,
   "metadata": {},
   "outputs": [],
   "source": []
  }
 ],
 "metadata": {
  "kernelspec": {
   "display_name": "Python 3",
   "language": "python",
   "name": "python3"
  },
  "language_info": {
   "codemirror_mode": {
    "name": "ipython",
    "version": 3
   },
   "file_extension": ".py",
   "mimetype": "text/x-python",
   "name": "python",
   "nbconvert_exporter": "python",
   "pygments_lexer": "ipython3",
   "version": "3.8.3"
  }
 },
 "nbformat": 4,
 "nbformat_minor": 4
}
